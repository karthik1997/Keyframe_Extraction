{
  "nbformat": 4,
  "nbformat_minor": 0,
  "metadata": {
    "colab": {
      "name": "Keyframe_Extraction.ipynb",
      "provenance": [],
      "collapsed_sections": []
    },
    "kernelspec": {
      "name": "python3",
      "display_name": "Python 3"
    }
  },
  "cells": [
    {
      "cell_type": "code",
      "metadata": {
        "id": "Qg0hsE54QaS0",
        "colab_type": "code",
        "colab": {}
      },
      "source": [
        "pip install katna"
      ],
      "execution_count": 0,
      "outputs": []
    },
    {
      "cell_type": "code",
      "metadata": {
        "id": "B5NBEvfFqkjg",
        "colab_type": "code",
        "colab": {}
      },
      "source": [
        "from google.colab import drive\n",
        "drive.mount('/content/drive')"
      ],
      "execution_count": 0,
      "outputs": []
    },
    {
      "cell_type": "code",
      "metadata": {
        "id": "URcX5qGBRSDv",
        "colab_type": "code",
        "colab": {}
      },
      "source": [
        "import os\n",
        "import os.path\n",
        "import cv2\n",
        "from Katna.video import Video\n",
        "import multiprocessing"
      ],
      "execution_count": 0,
      "outputs": []
    },
    {
      "cell_type": "code",
      "metadata": {
        "id": "siWi3UF-RYA4",
        "colab_type": "code",
        "colab": {}
      },
      "source": [
        "def main():\n",
        "\n",
        "    os.chdir(\"/content/drive/My Drive\")\n",
        "\n",
        "    vid = Video()\n",
        "\n",
        "    # folder to save extracted images\n",
        "    output_folder_path = \"selectedframes\"\n",
        "    output_directory = os.path.join(\".\", output_folder_path)\n",
        "\n",
        "    if not os.path.isdir(output_directory):\n",
        "        os.mkdir(output_directory)\n",
        "\n",
        "    # number of images to be returned\n",
        "    needed_frames = 10\n",
        "    # Video file path\n",
        "    video_path = os.path.join(\"/\",\"content\", \"drive\",\"My Drive\",\"test2.mp4\")\n",
        "    print(f\"Input video file path = {video_path}\")\n",
        "\n",
        "    images = vid.extract_frames_as_images(\n",
        "        no_of_frames=needed_frames, file_path=video_path\n",
        "    )\n",
        "\n",
        "    # Save it to disk\n",
        "    for counter, img in enumerate(images):\n",
        "        vid.save_frame_to_disk(\n",
        "            img,\n",
        "            file_path=output_directory,\n",
        "            file_name=\"test_\" + str(counter),\n",
        "            file_ext=\".jpeg\",\n",
        "        )\n",
        "    print(f\"Exracted key frames file path = {output_directory}\")\n",
        "\n",
        "\n",
        "\n",
        "\n",
        "\n",
        "\n",
        "\n",
        "   "
      ],
      "execution_count": 0,
      "outputs": []
    },
    {
      "cell_type": "code",
      "metadata": {
        "id": "sC3TKlr3pE0R",
        "colab_type": "code",
        "colab": {}
      },
      "source": [
        "if __name__ == \"__main__\":\n",
        "    multiprocessing.set_start_method('spawn', force=True)\n",
        "    main()"
      ],
      "execution_count": 0,
      "outputs": []
    }
  ]
}